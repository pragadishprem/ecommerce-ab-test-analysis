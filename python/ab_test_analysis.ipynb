import pandas as pd
from scipy import stats
import os

# Check for environment variables and specify the "data" folder.
try:
    csv_file_a = os.environ["VARIANT_A_CSV"]
    csv_file_b = os.environ["VARIANT_B_CSV"]
except:
    print("If running local, create a `data` folder")
    print("Ensure `environment variables` are correctly set" )
    csv_file_a = 'data/variant_a_order_values.csv'  # "data" directory
    csv_file_b = 'data/variant_b_order_values.csv'

# Pandas to read strings, as CSV is private.
csv_file_a_example = """order_value
85.00
120.50
90.25
75.50
110.00"""

csv_file_b_example = """order_value
50.00
150.75
200.00
100.00
135.25"""

df_a = pd.read_csv(io.StringIO(csv_file_a_example))
df_b = pd.read_csv(io.StringIO(csv_file_b_example))

# T Test code
t_statistic, p_value = stats.ttest_ind(df_a['order_value'], df_b['order_value'], equal_var=False, alternative='two-sided')

# AOV
aov_a = df_a['order_value'].mean()
aov_b = df_b['order_value'].mean()

# Print
print("Variant A AOV:", aov_a)
print("Variant B AOV:", aov_b)
print("T-Statistic:", t_statistic)
print("P-Value:", p_value)

# Interpret the Results
alpha = 0.05

if p_value <= alpha:
    print("\nThe difference in AOV is statistically significant.")
    if aov_b > aov_a:
        print("Variant B (the promotional campaign) had a significantly higher AOV.")
    else:
        print("Variant A had a significantly higher AOV (unexpected).")
else:
    print("\nThe difference in AOV is not statistically significant.")
    print("We cannot conclude that the promotional campaign had a significant impact on AOV.")
